{
  "nbformat": 4,
  "nbformat_minor": 0,
  "metadata": {
    "colab": {
      "name": "Louvain_and_label_propagation.ipynb",
      "provenance": [],
      "collapsed_sections": []
    },
    "kernelspec": {
      "name": "python3",
      "display_name": "Python 3"
    }
  },
  "cells": [
    {
      "cell_type": "code",
      "metadata": {
        "id": "F5vVpP2Fw3RD",
        "colab": {
          "base_uri": "https://localhost:8080/"
        },
        "outputId": "e00bae6f-3027-4326-80b5-9c65c9ced22a"
      },
      "source": [
        "from google.colab import drive\n",
        "drive.mount('/content/drive')"
      ],
      "execution_count": null,
      "outputs": [
        {
          "output_type": "stream",
          "text": [
            "Mounted at /content/drive\n"
          ],
          "name": "stdout"
        }
      ]
    },
    {
      "cell_type": "code",
      "metadata": {
        "id": "LP7svR4LxJCQ",
        "colab": {
          "base_uri": "https://localhost:8080/"
        },
        "outputId": "9c6eb2f5-8cf9-4090-e07a-3235abcb50d2"
      },
      "source": [
        "!pip install python-louvain\n",
        "!pip install karateclub"
      ],
      "execution_count": null,
      "outputs": [
        {
          "output_type": "stream",
          "text": [
            "Requirement already satisfied: python-louvain in /usr/local/lib/python3.6/dist-packages (0.14)\n",
            "Requirement already satisfied: networkx in /usr/local/lib/python3.6/dist-packages (from python-louvain) (2.5)\n",
            "Requirement already satisfied: numpy in /usr/local/lib/python3.6/dist-packages (from python-louvain) (1.18.5)\n",
            "Requirement already satisfied: decorator>=4.3.0 in /usr/local/lib/python3.6/dist-packages (from networkx->python-louvain) (4.4.2)\n",
            "Collecting karateclub\n",
            "\u001b[?25l  Downloading https://files.pythonhosted.org/packages/d8/cd/e4e59588a58c6b6f67e5bd561ecfda9bd981632f675e6f8e1e46a8f9fe6e/karateclub-1.0.22.tar.gz (56kB)\n",
            "\u001b[K     |████████████████████████████████| 61kB 3.3MB/s \n",
            "\u001b[?25hRequirement already satisfied: numpy in /usr/local/lib/python3.6/dist-packages (from karateclub) (1.18.5)\n",
            "Requirement already satisfied: networkx in /usr/local/lib/python3.6/dist-packages (from karateclub) (2.5)\n",
            "Requirement already satisfied: tqdm in /usr/local/lib/python3.6/dist-packages (from karateclub) (4.41.1)\n",
            "Requirement already satisfied: python-louvain in /usr/local/lib/python3.6/dist-packages (from karateclub) (0.14)\n",
            "Requirement already satisfied: scikit-learn in /usr/local/lib/python3.6/dist-packages (from karateclub) (0.22.2.post1)\n",
            "Requirement already satisfied: scipy in /usr/local/lib/python3.6/dist-packages (from karateclub) (1.4.1)\n",
            "Collecting pygsp\n",
            "\u001b[?25l  Downloading https://files.pythonhosted.org/packages/d4/89/2f4aa73cccf12bec5179ac5d52a68b508120c838b7e5d456f5ea0c8beade/PyGSP-0.5.1-py2.py3-none-any.whl (1.8MB)\n",
            "\u001b[K     |████████████████████████████████| 1.8MB 7.7MB/s \n",
            "\u001b[?25hCollecting gensim==3.8.3\n",
            "\u001b[?25l  Downloading https://files.pythonhosted.org/packages/2b/e0/fa6326251692056dc880a64eb22117e03269906ba55a6864864d24ec8b4e/gensim-3.8.3-cp36-cp36m-manylinux1_x86_64.whl (24.2MB)\n",
            "\u001b[K     |████████████████████████████████| 24.2MB 44.8MB/s \n",
            "\u001b[?25hRequirement already satisfied: pandas in /usr/local/lib/python3.6/dist-packages (from karateclub) (1.1.5)\n",
            "Requirement already satisfied: six in /usr/local/lib/python3.6/dist-packages (from karateclub) (1.15.0)\n",
            "Requirement already satisfied: decorator>=4.3.0 in /usr/local/lib/python3.6/dist-packages (from networkx->karateclub) (4.4.2)\n",
            "Requirement already satisfied: joblib>=0.11 in /usr/local/lib/python3.6/dist-packages (from scikit-learn->karateclub) (0.17.0)\n",
            "Requirement already satisfied: smart-open>=1.8.1 in /usr/local/lib/python3.6/dist-packages (from gensim==3.8.3->karateclub) (4.0.1)\n",
            "Requirement already satisfied: python-dateutil>=2.7.3 in /usr/local/lib/python3.6/dist-packages (from pandas->karateclub) (2.8.1)\n",
            "Requirement already satisfied: pytz>=2017.2 in /usr/local/lib/python3.6/dist-packages (from pandas->karateclub) (2018.9)\n",
            "Building wheels for collected packages: karateclub\n",
            "  Building wheel for karateclub (setup.py) ... \u001b[?25l\u001b[?25hdone\n",
            "  Created wheel for karateclub: filename=karateclub-1.0.22-cp36-none-any.whl size=93242 sha256=04bf37fb703f6512baaedf75d5dea54d003a11ebc7a9d0892b3949aac6c125f2\n",
            "  Stored in directory: /root/.cache/pip/wheels/60/ef/0a/b9f163e1bc2fa9337ef4b183529d09c2ea78588cbc2c3753ef\n",
            "Successfully built karateclub\n",
            "Installing collected packages: pygsp, gensim, karateclub\n",
            "  Found existing installation: gensim 3.6.0\n",
            "    Uninstalling gensim-3.6.0:\n",
            "      Successfully uninstalled gensim-3.6.0\n",
            "Successfully installed gensim-3.8.3 karateclub-1.0.22 pygsp-0.5.1\n"
          ],
          "name": "stdout"
        }
      ]
    },
    {
      "cell_type": "code",
      "metadata": {
        "id": "TYyNiO6uxTJs"
      },
      "source": [
        "import community as community_louvain\n",
        "import matplotlib.cm as cm\n",
        "import matplotlib.pyplot as plt\n",
        "import networkx as nx\n",
        "import pandas as pd\n",
        "import numpy as np\n",
        "from karateclub.community_detection.non_overlapping import LabelPropagation\n",
        "import itertools\n",
        "from networkx.algorithms.community.label_propagation import label_propagation_communities as LP\n",
        "import time\n",
        "from tqdm import tqdm"
      ],
      "execution_count": null,
      "outputs": []
    },
    {
      "cell_type": "code",
      "metadata": {
        "id": "aDpKNc_vIvoD"
      },
      "source": [
        "df = pd.read_csv('/content/drive/MyDrive/RS_Doc/data  time user/timeuser_train_7.csv')\r\n",
        "df = df.drop(columns=['Unnamed: 0'])\r\n",
        "\r\n",
        "df_test = pd.read_csv('/content/drive/MyDrive/RS_Doc/data  time user/timeuser_test_3.csv')\r\n",
        "df_test = df_test.drop(columns=['Unnamed: 0', 'dt'])"
      ],
      "execution_count": null,
      "outputs": []
    },
    {
      "cell_type": "code",
      "metadata": {
        "colab": {
          "base_uri": "https://localhost:8080/",
          "height": 195
        },
        "id": "RvY2MvYhBWhm",
        "outputId": "b74b9879-815c-45e7-91de-5bdebbf7e1c9"
      },
      "source": [
        "weighted_edges = df.drop(columns=['dt'])\r\n",
        "weights = np.ones((len(df)))\r\n",
        "weighted_edges['w'] = weights\r\n",
        "weighted_edges.head()"
      ],
      "execution_count": null,
      "outputs": [
        {
          "output_type": "execute_result",
          "data": {
            "text/html": [
              "<div>\n",
              "<style scoped>\n",
              "    .dataframe tbody tr th:only-of-type {\n",
              "        vertical-align: middle;\n",
              "    }\n",
              "\n",
              "    .dataframe tbody tr th {\n",
              "        vertical-align: top;\n",
              "    }\n",
              "\n",
              "    .dataframe thead th {\n",
              "        text-align: right;\n",
              "    }\n",
              "</style>\n",
              "<table border=\"1\" class=\"dataframe\">\n",
              "  <thead>\n",
              "    <tr style=\"text-align: right;\">\n",
              "      <th></th>\n",
              "      <th>userId</th>\n",
              "      <th>followId</th>\n",
              "    </tr>\n",
              "  </thead>\n",
              "  <tbody>\n",
              "    <tr>\n",
              "      <th>0</th>\n",
              "      <td>9b670e4c393b771d904c3eaafa05e55f</td>\n",
              "      <td>c0fd9e1a93f3db44f5f9499552122f91</td>\n",
              "    </tr>\n",
              "    <tr>\n",
              "      <th>1</th>\n",
              "      <td>9b670e4c393b771d904c3eaafa05e55f</td>\n",
              "      <td>0354af7e148421884f15210915802a90</td>\n",
              "    </tr>\n",
              "    <tr>\n",
              "      <th>2</th>\n",
              "      <td>9b670e4c393b771d904c3eaafa05e55f</td>\n",
              "      <td>b1840b957592d5e514960b140c54af46</td>\n",
              "    </tr>\n",
              "    <tr>\n",
              "      <th>3</th>\n",
              "      <td>9b670e4c393b771d904c3eaafa05e55f</td>\n",
              "      <td>7f27338f8cb2bf2bfd6aafd7729b9bef</td>\n",
              "    </tr>\n",
              "    <tr>\n",
              "      <th>4</th>\n",
              "      <td>9b670e4c393b771d904c3eaafa05e55f</td>\n",
              "      <td>3db47a38e543d48e0cfa8b2c81aee13f</td>\n",
              "    </tr>\n",
              "  </tbody>\n",
              "</table>\n",
              "</div>"
            ],
            "text/plain": [
              "                             userId                          followId\n",
              "0  9b670e4c393b771d904c3eaafa05e55f  c0fd9e1a93f3db44f5f9499552122f91\n",
              "1  9b670e4c393b771d904c3eaafa05e55f  0354af7e148421884f15210915802a90\n",
              "2  9b670e4c393b771d904c3eaafa05e55f  b1840b957592d5e514960b140c54af46\n",
              "3  9b670e4c393b771d904c3eaafa05e55f  7f27338f8cb2bf2bfd6aafd7729b9bef\n",
              "4  9b670e4c393b771d904c3eaafa05e55f  3db47a38e543d48e0cfa8b2c81aee13f"
            ]
          },
          "metadata": {
            "tags": []
          },
          "execution_count": 13
        }
      ]
    },
    {
      "cell_type": "code",
      "metadata": {
        "id": "q2Q1RmErI4lq"
      },
      "source": [
        "user_follow_train = {}\r\n",
        "for i in range(len(df)):\r\n",
        "    userId = df['userId'].iloc[i]\r\n",
        "    followId = df['followId'].iloc[i]\r\n",
        "    \r\n",
        "    if userId not in user_follow_train:\r\n",
        "        user_follow_train[userId] = []\r\n",
        "    if followId not in user_follow_train:\r\n",
        "        user_follow_train[followId] = []\r\n",
        "\r\n",
        "    if followId not in user_follow_train[userId]: \r\n",
        "        user_follow_train[userId].append(followId)\r\n",
        "    if userId not in user_follow_train[followId]:\r\n",
        "        user_follow_train[followId].append(userId)\r\n",
        "\r\n",
        "\r\n",
        "user_follow_test = {}\r\n",
        "for i in range(len(df_test)):\r\n",
        "    userId = df_test['userId'].iloc[i]\r\n",
        "    followId = df_test['followId'].iloc[i]\r\n",
        "    \r\n",
        "    if userId not in user_follow_test:\r\n",
        "        user_follow_test[userId] = []\r\n",
        "    if followId not in user_follow_test:\r\n",
        "        user_follow_test[followId] = []\r\n",
        "\r\n",
        "    if followId not in user_follow_test[userId]: \r\n",
        "        user_follow_test[userId].append(followId)\r\n",
        "    if userId not in user_follow_test[followId]:\r\n",
        "        user_follow_test[followId].append(userId)"
      ],
      "execution_count": null,
      "outputs": []
    },
    {
      "cell_type": "code",
      "metadata": {
        "id": "S5VczmijIyqb"
      },
      "source": [
        "G = nx.Graph()\r\n",
        "G.add_nodes_from(df['userId'].unique())\r\n",
        "G.add_weighted_edges_from(weighted_edges.values.tolist())"
      ],
      "execution_count": null,
      "outputs": []
    },
    {
      "cell_type": "markdown",
      "metadata": {
        "id": "0VVNmm5WDYaQ"
      },
      "source": [
        "## Louvain"
      ]
    },
    {
      "cell_type": "code",
      "metadata": {
        "id": "PD1qdVF5xhUF"
      },
      "source": [
        "# compute the best partition\n",
        "partition = community_louvain.best_partition(G)"
      ],
      "execution_count": null,
      "outputs": []
    },
    {
      "cell_type": "code",
      "metadata": {
        "id": "g98BMvKqGiSI"
      },
      "source": [
        "key_list = list(partition.keys())\r\n",
        "val_list = list(partition.values())\r\n",
        "key_list = np.asarray(key_list)\r\n",
        "val_list = np.asarray(val_list)"
      ],
      "execution_count": null,
      "outputs": []
    },
    {
      "cell_type": "code",
      "metadata": {
        "colab": {
          "base_uri": "https://localhost:8080/"
        },
        "id": "BFMx5TIQQWZ3",
        "outputId": "7333de1d-88ab-468d-dad7-92617c2963fc"
      },
      "source": [
        "recommend_list = {}\r\n",
        "begin = time.time()\r\n",
        "for id in range(np.max(np.asarray(list(partition.values())))+1):\r\n",
        "    nodes = key_list[val_list == id]\r\n",
        "    if id % 100 == 0:\r\n",
        "        print(f\"Making recommendation for person {id}\")\r\n",
        "    for node in nodes:\r\n",
        "        node_recommend = nodes[nodes != node]\r\n",
        "        recommend_list[node] = node_recommend\r\n",
        "end = time.time()\r\n",
        "print((end-begin)/60)"
      ],
      "execution_count": null,
      "outputs": [
        {
          "output_type": "stream",
          "text": [
            "Making recommendation for person 0\n",
            "Making recommendation for person 100\n",
            "Making recommendation for person 200\n",
            "Making recommendation for person 300\n",
            "Making recommendation for person 400\n",
            "Making recommendation for person 500\n",
            "Making recommendation for person 600\n",
            "Making recommendation for person 700\n",
            "Making recommendation for person 800\n",
            "Making recommendation for person 900\n",
            "0.037541091442108154\n"
          ],
          "name": "stdout"
        }
      ]
    },
    {
      "cell_type": "code",
      "metadata": {
        "id": "MHJVtmOw0B3H",
        "colab": {
          "base_uri": "https://localhost:8080/"
        },
        "outputId": "7da4c2ba-5b11-4a76-9494-7c8dc977d0a2"
      },
      "source": [
        "top_user = {}\r\n",
        "\r\n",
        "for user in tqdm(key_list):\r\n",
        "    top_user[user] = 0\r\n",
        "\r\n",
        "for id in tqdm(range(len(df))):\r\n",
        "    top_user[df['followId'].iloc[id]] += 1\r\n",
        "\r\n",
        "top = min(len(list(dict(sorted(top_user.items(), key=lambda item: item[1])).keys())), 5)\r\n",
        "top_follow = list(dict(sorted(top_user.items(), key=lambda item: item[1])).keys())[-top:]"
      ],
      "execution_count": null,
      "outputs": [
        {
          "output_type": "stream",
          "text": [
            "100%|██████████| 18950/18950 [00:00<00:00, 969577.20it/s]\n",
            "100%|██████████| 36540/36540 [00:00<00:00, 84500.06it/s]\n"
          ],
          "name": "stderr"
        }
      ]
    },
    {
      "cell_type": "code",
      "metadata": {
        "id": "CGMr_eNFxYP_"
      },
      "source": [
        "# mAP = 0\r\n",
        "# mAR = 0\r\n",
        "# mF1 = 0\r\n",
        "# num_per = 0\r\n",
        "\r\n",
        "# for user in df_test['userId'].unique():\r\n",
        "#     # user khong co trong tap train\r\n",
        "#     if user not in recommend_list.keys():\r\n",
        "#         continue\r\n",
        "\r\n",
        "#     recommends = recommend_list[user]\r\n",
        "#     if len(recommends) < 5:\r\n",
        "#         recommends = list(recommends)\r\n",
        "#         recommends.extend(top_follow)\r\n",
        "#         recommends = np.asarray(recommends)\r\n",
        "\r\n",
        "#     follows = user_follow_test[user]\r\n",
        "#     TP = len(set(recommends)&set(follows))\r\n",
        "#     TPP = len(recommends) - len(set(recommends)&set(user_follow_train[user]))\r\n",
        "#     TAP = len(follows)\r\n",
        "\r\n",
        "#     # user da follow het cmn community\r\n",
        "#     if TPP == 0:\r\n",
        "#         continue\r\n",
        "\r\n",
        "#     num_per += 1\r\n",
        "#     precision = TP/TPP\r\n",
        "#     recall = TP/TAP\r\n",
        "#     mAP += precision\r\n",
        "#     mAR += recall\r\n",
        "#     mF1 += 2*precision*recall/(precision+recall+0.0001)\r\n",
        "#     # print(precision, recall)"
      ],
      "execution_count": null,
      "outputs": []
    },
    {
      "cell_type": "code",
      "metadata": {
        "id": "rIOYr8sq21nP"
      },
      "source": [
        "mAP = 0\r\n",
        "mAR = 0\r\n",
        "mF1 = 0\r\n",
        "num_per = 0\r\n",
        "\r\n",
        "for user in df_test['userId'].unique():\r\n",
        "    # user khong co trong tap train\r\n",
        "    if user not in recommend_list.keys():\r\n",
        "        continue\r\n",
        "\r\n",
        "    recommends = recommend_list[user]\r\n",
        "    follows = user_follow_test[user]\r\n",
        "    TP = len(set(recommends)&set(follows))\r\n",
        "    TPP = len(recommends) - len(set(recommends)&set(user_follow_train[user]))\r\n",
        "    TAP = len(follows)\r\n",
        "\r\n",
        "    # user da follow het cmn community\r\n",
        "    if TPP == 0:\r\n",
        "        continue\r\n",
        "\r\n",
        "    num_per += 1\r\n",
        "    precision = TP/TPP\r\n",
        "    recall = TP/TAP\r\n",
        "    mAP += precision\r\n",
        "    mAR += recall\r\n",
        "    mF1 += 2*precision*recall/(precision+recall+0.0001)\r\n",
        "    # print(precision, recall)"
      ],
      "execution_count": null,
      "outputs": []
    },
    {
      "cell_type": "code",
      "metadata": {
        "colab": {
          "base_uri": "https://localhost:8080/"
        },
        "id": "Xb1Yudi9PtmU",
        "outputId": "43a36c8d-c647-43c0-be55-5e492630e8ff"
      },
      "source": [
        "print(f\"mAP = {mAP/num_per}, mAR = {mAR/num_per}, mF1 = {mF1/num_per}\")"
      ],
      "execution_count": null,
      "outputs": [
        {
          "output_type": "stream",
          "text": [
            "mAP = 0.006553920641586211, mAR = 0.39300281937225146, mF1 = 0.009002545784910993\n"
          ],
          "name": "stdout"
        }
      ]
    },
    {
      "cell_type": "markdown",
      "metadata": {
        "id": "bMM8yZMPDalQ"
      },
      "source": [
        "## Label Propagation"
      ]
    },
    {
      "cell_type": "code",
      "metadata": {
        "id": "0xY9Z5l2B7pc"
      },
      "source": [
        "part_gen = LP(G)\r\n",
        "\r\n",
        "communities = []\r\n",
        "for community in part_gen:\r\n",
        "    communities.append(list(community))"
      ],
      "execution_count": null,
      "outputs": []
    },
    {
      "cell_type": "code",
      "metadata": {
        "colab": {
          "base_uri": "https://localhost:8080/"
        },
        "id": "XZc0IlmqGaZV",
        "outputId": "5901e94b-96b3-43ac-f561-52bb869c3d8e"
      },
      "source": [
        "recommend_list = {}\r\n",
        "\r\n",
        "begin = time.time()\r\n",
        "for community in communities:\r\n",
        "    community = np.asarray(community)\r\n",
        "    for node in community:\r\n",
        "        recommend_nodes = community[community != node]\r\n",
        "        recommend_list[node] = recommend_nodes\r\n",
        "end = time.time()\r\n",
        "print((end-begin)/60)"
      ],
      "execution_count": null,
      "outputs": [
        {
          "output_type": "stream",
          "text": [
            "0.1261385639508565\n"
          ],
          "name": "stdout"
        }
      ]
    },
    {
      "cell_type": "code",
      "metadata": {
        "id": "9Aoy6WOgIOQM"
      },
      "source": [
        "mAP = 0\r\n",
        "mAR = 0\r\n",
        "mF1 = 0\r\n",
        "num_per = 0\r\n",
        "\r\n",
        "for user in df_test['userId'].unique():\r\n",
        "    # user khong co trong tap train\r\n",
        "    if user not in recommend_list.keys():\r\n",
        "        continue\r\n",
        "\r\n",
        "    recommends = recommend_list[user]\r\n",
        "    follows = user_follow_test[user]\r\n",
        "    TP = len(set(recommends)&set(follows))\r\n",
        "    TPP = len(recommends) - len(set(recommends)&set(user_follow_train[user]))\r\n",
        "    TAP = len(follows)\r\n",
        "\r\n",
        "    # user da follow het cmn community\r\n",
        "    if TPP == 0:\r\n",
        "        continue\r\n",
        "\r\n",
        "    num_per += 1\r\n",
        "    precision = TP/TPP\r\n",
        "    recall = TP/TAP\r\n",
        "    mAP += precision\r\n",
        "    mAR += recall\r\n",
        "    mF1 += 2*precision*recall/(precision+recall+0.0001)\r\n",
        "    # print(precision, recall)"
      ],
      "execution_count": null,
      "outputs": []
    },
    {
      "cell_type": "code",
      "metadata": {
        "colab": {
          "base_uri": "https://localhost:8080/"
        },
        "id": "H3MVuTyDRj1y",
        "outputId": "a0a6df7c-b134-4860-c4c2-f6d10e01cbdb"
      },
      "source": [
        "top_user = {}\r\n",
        "\r\n",
        "for user in tqdm(key_list):\r\n",
        "    top_user[user] = 0\r\n",
        "\r\n",
        "for id in tqdm(range(len(df))):\r\n",
        "    top_user[df['followId'].iloc[id]] += 1\r\n",
        "\r\n",
        "top = min(len(list(dict(sorted(top_user.items(), key=lambda item: item[1])).keys())), 2)\r\n",
        "top_follow = list(dict(sorted(top_user.items(), key=lambda item: item[1])).keys())[-top:]"
      ],
      "execution_count": null,
      "outputs": [
        {
          "output_type": "stream",
          "text": [
            "100%|██████████| 18950/18950 [00:00<00:00, 1296713.61it/s]\n",
            "100%|██████████| 36540/36540 [00:00<00:00, 84194.84it/s]\n"
          ],
          "name": "stderr"
        }
      ]
    },
    {
      "cell_type": "code",
      "metadata": {
        "id": "mFI1sKGx7u_v"
      },
      "source": [
        "# mAP = 0\r\n",
        "# mAR = 0\r\n",
        "# mF1 = 0\r\n",
        "# num_per = 0\r\n",
        "\r\n",
        "# for user in df_test['userId'].unique():\r\n",
        "#     # user khong co trong tap train\r\n",
        "#     if user not in recommend_list.keys():\r\n",
        "#         continue\r\n",
        "\r\n",
        "#     recommends = recommend_list[user]\r\n",
        "#     if len(recommends) < 5:\r\n",
        "#         recommends = list(recommends)\r\n",
        "#         recommends.extend(top_follow)\r\n",
        "#         recommends = np.asarray(recommends)\r\n",
        "\r\n",
        "#     follows = user_follow_test[user]\r\n",
        "#     TP = len(set(recommends)&set(follows))\r\n",
        "#     TPP = len(recommends) - len(set(recommends)&set(user_follow_train[user]))\r\n",
        "#     TAP = len(follows)\r\n",
        "\r\n",
        "#     # user da follow het cmn community\r\n",
        "#     if TPP == 0:\r\n",
        "#         continue\r\n",
        "\r\n",
        "#     num_per += 1\r\n",
        "#     precision = TP/TPP\r\n",
        "#     recall = TP/TAP\r\n",
        "#     mAP += precision\r\n",
        "#     mAR += recall\r\n",
        "#     mF1 += 2*precision*recall/(precision+recall+0.0001)"
      ],
      "execution_count": null,
      "outputs": []
    },
    {
      "cell_type": "code",
      "metadata": {
        "colab": {
          "base_uri": "https://localhost:8080/"
        },
        "id": "kRfMjFjhIcbq",
        "outputId": "2af3819d-166c-40c9-dbc2-9047c82872f9"
      },
      "source": [
        "print(f\"mAP = {mAP/num_per}, mAR = {mAR/num_per}, mF1 = {mF1/num_per}\")"
      ],
      "execution_count": null,
      "outputs": [
        {
          "output_type": "stream",
          "text": [
            "mAP = 0.06511470224989487, mAR = 0.3312133133837014, mF1 = 0.027127367034854397\n"
          ],
          "name": "stdout"
        }
      ]
    }
  ]
}