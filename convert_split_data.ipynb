{
  "nbformat": 4,
  "nbformat_minor": 0,
  "metadata": {
    "colab": {
      "name": "hoangnn.ipynb",
      "provenance": [],
      "collapsed_sections": []
    },
    "kernelspec": {
      "name": "python3",
      "display_name": "Python 3"
    }
  },
  "cells": [
    {
      "cell_type": "code",
      "metadata": {
        "id": "hEAFum_irQ1x"
      },
      "source": [
        "import pandas as pd"
      ],
      "execution_count": null,
      "outputs": []
    },
    {
      "cell_type": "code",
      "metadata": {
        "id": "dvvu8Q8gtkPq",
        "colab": {
          "base_uri": "https://localhost:8080/"
        },
        "outputId": "3f4e6823-83c3-4938-d6c8-77da437e748d"
      },
      "source": [
        "follow=pd.read_csv('./User Suggestion/user_follow.csv', error_bad_lines=False)\n",
        "post=pd.read_csv('./User Suggestion/user_post.csv')"
      ],
      "execution_count": null,
      "outputs": [
        {
          "output_type": "stream",
          "text": [
            "b'Skipping line 3140: expected 3 fields, saw 5\\nSkipping line 10729: expected 3 fields, saw 5\\nSkipping line 10769: expected 3 fields, saw 5\\nSkipping line 12706: expected 3 fields, saw 5\\nSkipping line 33549: expected 3 fields, saw 5\\nSkipping line 43406: expected 3 fields, saw 5\\nSkipping line 43456: expected 3 fields, saw 5\\n'\n"
          ],
          "name": "stderr"
        }
      ]
    },
    {
      "cell_type": "markdown",
      "metadata": {
        "id": "wghnPXMz6PtE"
      },
      "source": [
        "convert"
      ]
    },
    {
      "cell_type": "code",
      "metadata": {
        "id": "hrxWtR1Q5V-i"
      },
      "source": [
        "a=follow['userId'].value_counts().index.tolist()\n",
        "b=follow['followId'].value_counts().index.tolist()\n",
        "# a1=post['userId'].value_counts().index.tolist()\n",
        "# b1=post['ownerId'].value_counts().index.tolist()"
      ],
      "execution_count": null,
      "outputs": []
    },
    {
      "cell_type": "code",
      "metadata": {
        "id": "HMW3UEo66vrK"
      },
      "source": [
        "c=list(set(a+b))"
      ],
      "execution_count": null,
      "outputs": []
    },
    {
      "cell_type": "code",
      "metadata": {
        "id": "S0G0-nEn6vvW"
      },
      "source": [
        "from sklearn.utils import shuffle\n",
        "import random\n",
        "c=shuffle(c)"
      ],
      "execution_count": null,
      "outputs": []
    },
    {
      "cell_type": "code",
      "metadata": {
        "id": "wNGlsL9W6vz0"
      },
      "source": [
        "bins=[inx for inx in range(0,len(c)-1)]\n",
        "bin=shuffle(bins)\n",
        "dict1=dict(zip(c,bin))"
      ],
      "execution_count": null,
      "outputs": []
    },
    {
      "cell_type": "code",
      "metadata": {
        "id": "akgfp6166v3R"
      },
      "source": [
        "keys = list(dict1.keys())\n",
        "values = list(dict1.values())"
      ],
      "execution_count": null,
      "outputs": []
    },
    {
      "cell_type": "code",
      "metadata": {
        "id": "Z2_cTwm_6v6o"
      },
      "source": [
        "df=pd.DataFrame()\n",
        "df['old_id']=keys\n",
        "df['new_id']=values"
      ],
      "execution_count": null,
      "outputs": []
    },
    {
      "cell_type": "code",
      "metadata": {
        "id": "B4fdJdcFF73T"
      },
      "source": [
        "df.to_csv(\"/content/gdrive/MyDrive/RS_Doc/data_time_convert/map.csv\")"
      ],
      "execution_count": null,
      "outputs": []
    },
    {
      "cell_type": "code",
      "metadata": {
        "id": "o1PO2Plt6v9a"
      },
      "source": [
        "def discretize(df, cols):\n",
        "    for col in cols:\n",
        "      if col in df.columns:\n",
        "        print(\"ok\")\n",
        "        df[col]=df[col].map(dict1)"
      ],
      "execution_count": null,
      "outputs": []
    },
    {
      "cell_type": "code",
      "metadata": {
        "id": "nTzIcPsb6wAK"
      },
      "source": [
        "cols=['userId','followId']"
      ],
      "execution_count": null,
      "outputs": []
    },
    {
      "cell_type": "code",
      "metadata": {
        "id": "bvuplqPE7Vdb",
        "colab": {
          "base_uri": "https://localhost:8080/"
        },
        "outputId": "55aed0de-c37a-48af-ce2c-c0c0372437ff"
      },
      "source": [
        "discretize(follow,cols)\n"
      ],
      "execution_count": null,
      "outputs": [
        {
          "output_type": "stream",
          "text": [
            "ok\n",
            "ok\n"
          ],
          "name": "stdout"
        }
      ]
    },
    {
      "cell_type": "markdown",
      "metadata": {
        "id": "4u8no8PXby59"
      },
      "source": [
        "Chia data theo time"
      ]
    },
    {
      "cell_type": "code",
      "metadata": {
        "id": "I96TMgY5bxG4"
      },
      "source": [
        "follow_sort=follow.sort_values(by=['dt'])"
      ],
      "execution_count": null,
      "outputs": []
    },
    {
      "cell_type": "code",
      "metadata": {
        "id": "Tbiq0uQgbxMC"
      },
      "source": [
        "follow_train=follow_sort[0:36400]"
      ],
      "execution_count": null,
      "outputs": []
    },
    {
      "cell_type": "code",
      "metadata": {
        "id": "oKbiayJMrflC"
      },
      "source": [
        "follow_test=follow_sort[36400:]"
      ],
      "execution_count": null,
      "outputs": []
    },
    {
      "cell_type": "code",
      "metadata": {
        "id": "_vrSYqw4itln"
      },
      "source": [
        "post_train=post[post[\"dt\"]<=\"2020-07-24 00:15:06\"].sort_values(by=['dt'])"
      ],
      "execution_count": null,
      "outputs": []
    },
    {
      "cell_type": "code",
      "metadata": {
        "id": "uxzngSXqitpN"
      },
      "source": [
        "post_test=post[post[\"dt\"]>\"2020-07-24 00:15:06\"].sort_values(by=['dt'])"
      ],
      "execution_count": null,
      "outputs": []
    },
    {
      "cell_type": "code",
      "metadata": {
        "id": "cNcRcoPAbxQW"
      },
      "source": [
        "follow_train.to_csv(\"./data_time_convert/73/fl_train.csv\")"
      ],
      "execution_count": null,
      "outputs": []
    },
    {
      "cell_type": "code",
      "metadata": {
        "id": "lW7sHq_AbxS4"
      },
      "source": [
        "follow_test.to_csv(\"./data_time_convert/73/fl_test.csv\")"
      ],
      "execution_count": null,
      "outputs": []
    },
    {
      "cell_type": "code",
      "metadata": {
        "id": "P5l8hfoQsFnz"
      },
      "source": [
        "post_train.to_csv(\"./data_time_convert/73/post_train.csv\")\n",
        "post_test.to_csv(\"./data_time_convert/73/post_test.csv\")"
      ],
      "execution_count": null,
      "outputs": []
    },
    {
      "cell_type": "markdown",
      "metadata": {
        "id": "178foN-YtQlt"
      },
      "source": [
        "End data time"
      ]
    },
    {
      "cell_type": "code",
      "metadata": {
        "id": "unhhV0r5tlN7"
      },
      "source": [],
      "execution_count": null,
      "outputs": []
    },
    {
      "cell_type": "markdown",
      "metadata": {
        "id": "UQUa4foqrrhY"
      },
      "source": [
        "Chia data time_user"
      ]
    },
    {
      "cell_type": "code",
      "metadata": {
        "id": "W6UnaXB1K9ng"
      },
      "source": [
        "df_train=pd.DataFrame()\n",
        "df_test=pd.DataFrame()\n",
        "for i in follow['userId'].unique():\n",
        "    follow_id1=follow[follow['userId']==i]\n",
        "    follow_id1=follow_id1.sort_values(by=['dt'])\n",
        "    if len(follow_id1) >1 :\n",
        "      follow_id1_train=follow_id1[0:int(len(follow_id1)*9/10)]\n",
        "      follow_id1_test=follow_id1[int(len(follow_id1)*9/10):]\n",
        "      df_train=df_train.append(follow_id1_train)\n",
        "      df_test=df_test.append(follow_id1_test)\n",
        "    else:\n",
        "      follow_id1_train=follow_id1\n",
        "      df_train=df_train.append(follow_id1_train)\n",
        "   \n",
        "  "
      ],
      "execution_count": null,
      "outputs": []
    },
    {
      "cell_type": "code",
      "metadata": {
        "id": "-L4YxnxyLw7O"
      },
      "source": [
        "df_train=pd.DataFrame()\n",
        "df_test=pd.DataFrame()\n",
        "for i in post['userId'].unique():\n",
        "    if i in follow['userId'].unique():\n",
        "      follow_id1=follow[follow['userId']==i]\n",
        "      maxdt=max(follow_id1['dt'])\n",
        "      post_id1=post[post['userId']==i].sort_values(by=['dt'])\n",
        "      post_id1_train=post_id1[post_id1['dt']<maxdt]\n",
        "      post_id1_test=post_id1[post_id1['dt']>=maxdt]\n",
        "      df_train=df_train.append(post_id1_train)\n",
        "      df_test=df_test.append(post_id1_test)\n",
        "    else:\n",
        "      post_id1=post[post['userId']==i]\n",
        "      post_id1=post_id1.sort_values(by=['dt'])\n",
        "      if len(post_id1) >1 :\n",
        "        post_id1_train=post_id1[0:int(len(post_id1)*7/10)]\n",
        "        post_id1_test=post_id1[int(len(post_id1)*7/10):]\n",
        "        df_train=df_train.append(post_id1_train)\n",
        "        df_test=df_test.append(post_id1_test)\n",
        "      else:\n",
        "        post_id1_train=post_id1\n",
        "        df_train=df_train.append(post_id1_train)"
      ],
      "execution_count": null,
      "outputs": []
    },
    {
      "cell_type": "code",
      "metadata": {
        "id": "OJRwpp8lcUr9"
      },
      "source": [
        "df_train.to_csv('/content/gdrive/MyDrive/RS_Doc/data_time_user_convert/timeuser_train_9.csv')\n",
        "df_test.to_csv('/content/gdrive/MyDrive/RS_Doc/data_time_user_convert/timeuser_test_1.csv')"
      ],
      "execution_count": null,
      "outputs": []
    },
    {
      "cell_type": "code",
      "metadata": {
        "id": "7jQKsnelcUvK"
      },
      "source": [],
      "execution_count": null,
      "outputs": []
    }
  ]
}